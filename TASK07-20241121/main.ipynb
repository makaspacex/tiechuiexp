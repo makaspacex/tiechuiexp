{
 "cells": [
  {
   "cell_type": "code",
   "metadata": {},
   "source": [
    "import PyCO2SYS as pyco2\n",
    "pyco2.hello()"
   ],
   "outputs": [],
   "execution_count": null
  },
  {
   "cell_type": "code",
   "metadata": {},
   "source": [
    "import numpy as np\n",
    "from scipy.io import loadmat\n",
    "\n",
    "# 加载数据\n",
    "# data = loadmat(\"TASK07-20241121/OrgAlk_get_phil.mat\")\n",
    "data = loadmat(\"OrgAlk_get_phil.mat\")"
   ],
   "outputs": [],
   "execution_count": null
  },
  {
   "cell_type": "code",
   "metadata": {},
   "source": [
    "orgalk_2100 = data[\"orgalk_2100_avg\"]\n",
    "orgalk_2010 = data[\"orgalk_2010_avg\"]\n",
    "\n",
    "TA_2010 = data[\"TA_2010_avg\"]\n",
    "DIC_2010 =data[\"DIC_2010_avg\"]\n",
    "sal_2010 = data[\"sal_2010_avg\"]\n",
    "Temp_2010 = data[\"Temp_2010_avg\"]\n",
    "sil_2010 =data[\"sil_2010_avg\"]\n",
    "po4_2010 = data[\"po4_2010_avg\"]\n"
   ],
   "outputs": [],
   "execution_count": null
  },
  {
   "cell_type": "code",
   "metadata": {},
   "source": [
    "numRows, numCols, numTimes = orgalk_2010.shape\n",
    "Korg1 = 2.68675 * 1E-6\n",
    "Korg2 = 6.82858 * 1E-9\n",
    "rat = 0.4035\n"
   ],
   "outputs": [],
   "execution_count": null
  },
  {
   "cell_type": "code",
   "metadata": {},
   "source": [
    "numRows * numCols * 1.4 / 3600 / 80\n",
    "\n",
    "\n",
    "\n",
    "\n",
    "\n"
   ],
   "outputs": [],
   "execution_count": null
  },
  {
   "metadata": {},
   "cell_type": "code",
   "source": "",
   "outputs": [],
   "execution_count": null
  },
  {
   "cell_type": "code",
   "metadata": {},
   "source": [
    "\n",
    "import time\n",
    "\n",
    "for i in range(numRows):\n",
    "    for j in range(numCols):\n",
    "        _s = time.time()\n",
    "        for t in range(numTimes):\n",
    "            par1 = TA_2010[i,j,t]\n",
    "            par2 = DIC_2010[i,j,t]\n",
    "            sal = sal_2010[i,j,t]\n",
    "            tempin = Temp_2010[i,j,t]\n",
    "            tempout = Temp_2010[i,j,t]\n",
    "            sil = sil_2010[i,j,t]\n",
    "            po4 = po4_2010[i,j,t]\n",
    "\n",
    "            par1type = 1\n",
    "            par2type = 2\n",
    "            presin = 0\n",
    "            presout = 0\n",
    "            pHscale = 1\n",
    "            k1k2c = 10\n",
    "            kso4c = 1\n",
    "            T_orgalk = 0\n",
    "            # results = pyco2.sys(par1, par2, par1_type, par2_type, **kwargs)\n",
    "            results = pyco2.CO2SYS(par1, par2, par1type, par2type, SAL = sal, TEMPIN=tempin, TEMPOUT=tempout,PRESIN=presin, PRESOUT=presout, SI=sil, PO4=po4, pHSCALEIN=pHscale, K1K2CONSTANTS=k1k2c, KSO4CONSTANTS=kso4c)\n",
    "\n",
    "        print(time.time() - _s)\n",
    "\n",
    "# [DATA,HEADERS,NICEHEADERS] = CO2SYS(T_orgalk,Korg1,Korg2,rat,PAR1,PAR2,PAR1TYPE,PAR2TYPE,SAL,TEMPIN,TEMPOUT,PRESIN,PRESOUT,SI,PO4,pHSCALEIN,K1K2CONSTANTS,KSO4CONSTANTS);\n",
    "\n",
    "# [DATA,HEADERS,NICEHEADERS] = CO2SYS(T_orgalk, Korg1, Korg2, rat, par1, par2, par1type, par2type, sal, tempin, tempout, presin, presout, sil, po4, pHscale, k1k2c, kso4c);\n",
    "\n",
    "#\n",
    "# % 初始化结果矩阵\n",
    "# Ar_norg_2010 = NaN(numRows, numCols, numTimes);\n",
    "# pHT_norg_2010 = NaN(numRows, numCols, numTimes);\n",
    "#\n",
    "#\n",
    "# for i = 1:numRows\n",
    "#     for j = 1:numCols\n",
    "#         for t = 1:numTimes\n",
    "#                 A = CO2SYS(T_orgalk, Korg1, Korg2, rat, par1, par2, par1type, par2type, ...\n",
    "#                            sal, tempin, tempout, presin, presout, sil, po4, pHscale, k1k2c, kso4c);\n",
    "#\n",
    "#                 % Store the results\n",
    "#                 Ar_norg_2010(i, j, t) = A(31);  % Aragonite saturati2100on state\n",
    "#                 pHT_norg_2010(i, j, t) = A(37);  % Total pH\n",
    "#             end\n",
    "#     end\n",
    "# end\n"
   ],
   "outputs": [],
   "execution_count": null
  },
  {
   "cell_type": "code",
   "metadata": {},
   "source": [
    "from multiprocessing import Pool\n",
    "\n",
    "\n",
    "def f(ele):\n",
    "    print(ele)\n",
    "\n",
    "with Pool(1) as pool:\n",
    "    result = pool.map(f, enumerate(zip(TA_2010, DIC_2010,sal_2010,Temp_2010,Temp_2010,sil_2010,po4_2010)))\n"
   ],
   "outputs": [],
   "execution_count": null
  },
  {
   "cell_type": "code",
   "metadata": {},
   "source": [],
   "outputs": [],
   "execution_count": null
  }
 ],
 "metadata": {
  "kernelspec": {
   "display_name": "tiechuiexp",
   "language": "python",
   "name": "python3"
  },
  "language_info": {
   "codemirror_mode": {
    "name": "ipython",
    "version": 3
   },
   "file_extension": ".py",
   "mimetype": "text/x-python",
   "name": "python",
   "nbconvert_exporter": "python",
   "pygments_lexer": "ipython3",
   "version": "3.10.15"
  }
 },
 "nbformat": 4,
 "nbformat_minor": 2
}
