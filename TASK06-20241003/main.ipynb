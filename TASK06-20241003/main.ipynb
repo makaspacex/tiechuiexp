{
 "cells": [
  {
   "cell_type": "code",
   "execution_count": 7,
   "metadata": {},
   "outputs": [],
   "source": [
    "import numpy as np\n",
    "import netCDF4 as nc\n",
    "from pathlib import Path\n",
    "import os\n",
    "import glob\n",
    "import argparse\n",
    "import pandas as pd\n",
    "import math\n"
   ]
  },
  {
   "cell_type": "code",
   "execution_count": 55,
   "metadata": {},
   "outputs": [],
   "source": [
    "def get_result_data(dataset, xlsx_data,output_path, diff=0.01):\n",
    "    data = dataset.variables\n",
    "    lat_mat, lon_mat,elevation_mat =  data['lat'][:].data, data['lon'][:].data,data['elevation'][:].data\n",
    "    dst_data = xlsx_data.to_numpy()\n",
    "    diff  = 0.01\n",
    "\n",
    "    result = \"lat,lon,real_lat,real_lon,lat_i, lon_i, distance,elevation\"\n",
    "\n",
    "    for _lon,_lat in dst_data:\n",
    "        lon_s,lon_e = _lon- diff, _lon + diff\n",
    "        lat_s,lat_e = _lat - diff, _lat + diff\n",
    "        lon_mask = np.where((lon_mat >= lon_s) & (lon_mat <= lon_e), np.ones_like(lon_mat), np.zeros_like(lon_mat))\n",
    "        lat_mask = np.where((lat_mat >= lat_s) & (lat_mat <= lat_e), np.ones_like(lat_mat), np.zeros_like(lat_mat))\n",
    "        \n",
    "        lat_i = np.where(lat_mask > 0)[0]\n",
    "        lon_i = np.where(lon_mask > 0)[0]\n",
    "        \n",
    "        real_lon, real_lat, min_dis,elevation = -1, -1, math.inf,-1\n",
    "        for _lat_i in lat_i:\n",
    "            for _lon_i in lon_i:\n",
    "                _lat_d, _lon_d = lat_mat[_lat_i], lon_mat[_lon_i]\n",
    "                dd = math.sqrt((_lat_d - _lat)**2 + (_lon_d - _lon)**2)\n",
    "                if dd < min_dis:\n",
    "                    min_dis = dd\n",
    "                    real_lat, real_lon = _lat_d,_lon_d\n",
    "                    elevation = elevation_mat[_lat_i, _lon_i]\n",
    "        _new_line = f\"{_lat}, {_lon},{real_lat},{real_lon}, {_lat_i},{_lon_i}, {min_dis},{elevation}\"\n",
    "        \n",
    "        result += \"\\n\" + _new_line\n",
    "\n",
    "    with open(output_path, 'w', encoding='utf8') as f:\n",
    "        f.write(result)\n"
   ]
  },
  {
   "cell_type": "code",
   "execution_count": 58,
   "metadata": {},
   "outputs": [],
   "source": [
    "nc_f_path = \"TASK06-20241003/gebco_2024_n33.0_s26.0_w120.0_e127.0.nc\"\n",
    "xlsx_f_path = \"TASK06-20241003/data_v2.xlsx\"\n",
    "\n",
    "dataset = nc.Dataset(nc_f_path)\n",
    "xlsx_data = pd.read_excel(xlsx_f_path)\n",
    "\n",
    "output_path = \"TASK06-20241003/data_v2_result_v1.csv\""
   ]
  },
  {
   "cell_type": "code",
   "execution_count": 59,
   "metadata": {},
   "outputs": [],
   "source": [
    "get_result_data(dataset=dataset, xlsx_data=xlsx_data, output_path=output_path)"
   ]
  },
  {
   "cell_type": "code",
   "execution_count": null,
   "metadata": {},
   "outputs": [],
   "source": []
  }
 ],
 "metadata": {
  "kernelspec": {
   "display_name": "tiechuiexp",
   "language": "python",
   "name": "python3"
  },
  "language_info": {
   "codemirror_mode": {
    "name": "ipython",
    "version": 3
   },
   "file_extension": ".py",
   "mimetype": "text/x-python",
   "name": "python",
   "nbconvert_exporter": "python",
   "pygments_lexer": "ipython3",
   "version": "3.10.15"
  }
 },
 "nbformat": 4,
 "nbformat_minor": 2
}
